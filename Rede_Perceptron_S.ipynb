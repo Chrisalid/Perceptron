{
 "cells": [
  {
   "cell_type": "markdown",
   "metadata": {},
   "source": [
    "<h1>Neste Trabalho Será Demonstrado Uma Rede PercepTron Simples</h1>\n"
   ]
  },
  {
   "cell_type": "markdown",
   "metadata": {},
   "source": [
    "<h4>Caso Seja a primeira vez usando o programa utilize os comandos abaixo, senão pule o bloco</h4>\n"
   ]
  },
  {
   "cell_type": "code",
   "execution_count": null,
   "metadata": {},
   "outputs": [],
   "source": [
    "!python -m pip install --upgrade pip\n",
    "!python -m pip install -r requirements.txt"
   ]
  },
  {
   "cell_type": "markdown",
   "metadata": {},
   "source": [
    "<h3>Importação das Bibliotecas Utilizadas</h1>\n"
   ]
  },
  {
   "cell_type": "code",
   "execution_count": 1,
   "metadata": {},
   "outputs": [],
   "source": [
    "from matplotlib.colors import ListedColormap\n",
    "import matplotlib.pyplot as plt\n",
    "import pandas as pd\n",
    "import numpy as np"
   ]
  },
  {
   "cell_type": "markdown",
   "metadata": {},
   "source": [
    "<h3>Implementação da Rede Perceptron</h3>\n"
   ]
  },
  {
   "cell_type": "code",
   "execution_count": 2,
   "metadata": {},
   "outputs": [],
   "source": [
    "class Perceptron:\n",
    "    def __init__(self, learn_rate=0.01, iterations=10):\n",
    "        self.learn_rate = learn_rate\n",
    "        self.iterations = iterations\n",
    "\n",
    "    def fit(self, inputs, outputs):\n",
    "        self.weights_ = np.zeros(1 + inputs.shape[1])\n",
    "        self.errors_ = []\n",
    "\n",
    "        for _ in range(self.iterations):\n",
    "            erros = 0\n",
    "            for xi, target in zip(inputs, outputs):\n",
    "                update = self.learn_rate * (target - self.predict(xi))\n",
    "                self.weights_[1:] += xi * update\n",
    "                self.weights_[0] += update\n",
    "                erros += int(update != 0.0)\n",
    "            self.errors_.append(erros)\n",
    "\n",
    "    def net_input(self, inputs):\n",
    "        return np.dot(\n",
    "                    inputs, self.weights_[1:]) + self.weights_[0]\n",
    "\n",
    "    def predict(self, inputs):\n",
    "        return np.where(\n",
    "                    self.net_input(inputs) >= 0.0, 1, -1)\n",
    "\n",
    "    def activation(self, inputs):\n",
    "        return self.net_input(inputs)"
   ]
  },
  {
   "cell_type": "code",
   "execution_count": 3,
   "metadata": {},
   "outputs": [],
   "source": [
    "def plot_decision_regions__(X, Y, classifier, resolution=0.02):\n",
    "    markers = ('s', 'x', 'o', '^', 'v')\n",
    "    colors = ('red', 'blue', 'lightgreen', 'gray', 'cyan')\n",
    "    cmap = ListedColormap(\n",
    "                        colors[:len(np.unique(Y))])\n",
    "\n",
    "    x1_min, x1_max = X[:, 0].min() - 1, X[:, 0].max() + 1\n",
    "    x2_min, x2_max = X[:, 1].min() - 1, X[:, 1].max() + 1\n",
    "\n",
    "    xx1, xx2 = np.meshgrid(np.arange(x1_min, x1_max, resolution),\n",
    "                           np.arange (x2_min, x2_max, resolution))\n",
    "\n",
    "    Z = classifier.predict(np.array([xx1.ravel(), xx2.ravel()]).T)\n",
    "    Z = Z.reshape(xx1.shape)\n",
    "    plt.contourf(xx1, xx2, Z, alpha=0.4, cmap=cmap)\n",
    "\n",
    "    for idx, cl in enumerate(np.unique(Y)):\n",
    "        plt.scatter(x=X[Y == cl, 0], y=X[Y == cl, 1],\n",
    "        alpha=0.8, c=cmap(idx),\n",
    "        marker=markers[idx], label=cl)"
   ]
  },
  {
   "cell_type": "markdown",
   "metadata": {},
   "source": [
    "<h3>Lendo o DataSet</h3>\n"
   ]
  },
  {
   "cell_type": "code",
   "execution_count": 4,
   "metadata": {},
   "outputs": [
    {
     "data": {
      "text/html": [
       "<div>\n",
       "<style scoped>\n",
       "    .dataframe tbody tr th:only-of-type {\n",
       "        vertical-align: middle;\n",
       "    }\n",
       "\n",
       "    .dataframe tbody tr th {\n",
       "        vertical-align: top;\n",
       "    }\n",
       "\n",
       "    .dataframe thead th {\n",
       "        text-align: right;\n",
       "    }\n",
       "</style>\n",
       "<table border=\"1\" class=\"dataframe\">\n",
       "  <thead>\n",
       "    <tr style=\"text-align: right;\">\n",
       "      <th></th>\n",
       "      <th>SepalLengthCm</th>\n",
       "      <th>SepalWidthCm</th>\n",
       "      <th>PetalLengthCm</th>\n",
       "      <th>PetalWidthCm</th>\n",
       "      <th>Species</th>\n",
       "    </tr>\n",
       "  </thead>\n",
       "  <tbody>\n",
       "    <tr>\n",
       "      <th>0</th>\n",
       "      <td>5.1</td>\n",
       "      <td>3.5</td>\n",
       "      <td>1.4</td>\n",
       "      <td>0.2</td>\n",
       "      <td>Iris-setosa</td>\n",
       "    </tr>\n",
       "    <tr>\n",
       "      <th>1</th>\n",
       "      <td>4.9</td>\n",
       "      <td>3.0</td>\n",
       "      <td>1.4</td>\n",
       "      <td>0.2</td>\n",
       "      <td>Iris-setosa</td>\n",
       "    </tr>\n",
       "    <tr>\n",
       "      <th>2</th>\n",
       "      <td>4.7</td>\n",
       "      <td>3.2</td>\n",
       "      <td>1.3</td>\n",
       "      <td>0.2</td>\n",
       "      <td>Iris-setosa</td>\n",
       "    </tr>\n",
       "    <tr>\n",
       "      <th>3</th>\n",
       "      <td>4.6</td>\n",
       "      <td>3.1</td>\n",
       "      <td>1.5</td>\n",
       "      <td>0.2</td>\n",
       "      <td>Iris-setosa</td>\n",
       "    </tr>\n",
       "    <tr>\n",
       "      <th>4</th>\n",
       "      <td>5.0</td>\n",
       "      <td>3.6</td>\n",
       "      <td>1.4</td>\n",
       "      <td>0.2</td>\n",
       "      <td>Iris-setosa</td>\n",
       "    </tr>\n",
       "  </tbody>\n",
       "</table>\n",
       "</div>"
      ],
      "text/plain": [
       "   SepalLengthCm  SepalWidthCm  PetalLengthCm  PetalWidthCm      Species\n",
       "0            5.1           3.5            1.4           0.2  Iris-setosa\n",
       "1            4.9           3.0            1.4           0.2  Iris-setosa\n",
       "2            4.7           3.2            1.3           0.2  Iris-setosa\n",
       "3            4.6           3.1            1.5           0.2  Iris-setosa\n",
       "4            5.0           3.6            1.4           0.2  Iris-setosa"
      ]
     },
     "execution_count": 4,
     "metadata": {},
     "output_type": "execute_result"
    }
   ],
   "source": [
    "df = pd.read_csv(\n",
    "    'iris.data',\n",
    "    names=['SepalLengthCm', 'SepalWidthCm', 'PetalLengthCm', 'PetalWidthCm', 'Species'])\n",
    "\n",
    "_cat = list(df['Species'].unique())\n",
    "cat = dict()\n",
    "for index in range(len(_cat)):\n",
    "    if 'setosa' in  _cat[index]:\n",
    "        cat[0] = _cat[index]\n",
    "    else:\n",
    "        cat[1] = 'Iris-n-Setosa'\n",
    "\n",
    "inputs = df.iloc[0:,[0,2]].values\n",
    "\n",
    "outputs = np.zeros(\n",
    "                (len(df), 1))\n",
    "\n",
    "df.head()"
   ]
  },
  {
   "cell_type": "markdown",
   "metadata": {},
   "source": [
    "<h3>Reorganizando os Dados que Serão Utilizados</h3>\n"
   ]
  },
  {
   "cell_type": "code",
   "execution_count": null,
   "metadata": {},
   "outputs": [],
   "source": [
    "for i, row in df.iterrows():\n",
    "    outputs[i:] = -1 if row.Species == 'Iris-setosa' else 1\n",
    "    inputs[i:] = np.array([row.SepalLengthCm,\n",
    "                           row.PetalLengthCm])"
   ]
  },
  {
   "cell_type": "markdown",
   "metadata": {},
   "source": [
    "<h3>Criando Um Novo DataFrame Com Os Dados Reorganizados</h3>\n"
   ]
  },
  {
   "cell_type": "code",
   "execution_count": null,
   "metadata": {},
   "outputs": [],
   "source": [
    "df_full = pd.DataFrame(inputs, columns=['SepalLengthCm', 'PetalLengthCm'])\n",
    "df_full['Species'] = outputs\n",
    "\n",
    "cat_2 = np.array(list(df_full['Species'].unique()))\n",
    "\n",
    "train_data = pd.DataFrame()\n",
    "\n",
    "for sp in cat_2:\n",
    "    temp = pd.DataFrame()\n",
    "    temp = pd.concat([temp, df_full[df_full[\n",
    "        'Species'] == sp]]).sample(frac=0.8).reset_index(drop=True)\n",
    "    train_data = pd.concat([train_data, temp])\n",
    "\n",
    "new_outputs = np.array(train_data.iloc[:, -1])\n",
    "new_inputs = np.array(train_data.drop(columns=train_data.columns[-1]))\n"
   ]
  },
  {
   "cell_type": "markdown",
   "metadata": {},
   "source": [
    "<h3>Plotando DataSet Baseado Nas Sepal E Petal Length De Acordo Com As Espécies</h3>\n"
   ]
  },
  {
   "cell_type": "code",
   "execution_count": null,
   "metadata": {},
   "outputs": [],
   "source": [
    "plot_area = None\n",
    "colors = ['blue', 'green', 'red']\n",
    "markers = ['o', '^', 'v']\n",
    "species = ['Iris-setosa', 'Iris-n-setosa']\n",
    "for var in cat_2:\n",
    "    print(var)\n",
    "    plot_area = df_full[df_full['Species'] == var].plot.scatter(x='SepalLengthCm', y='PetalLengthCm',\n",
    "                                                      ax=plot_area, color=colors.pop(0),\n",
    "                                                      marker=markers.pop(0), label=species.pop(0))"
   ]
  },
  {
   "cell_type": "code",
   "execution_count": null,
   "metadata": {},
   "outputs": [],
   "source": [
    "p = Perceptron(learn_rate=0.1, iterations=10)\n",
    "p.fit(new_inputs, new_outputs)"
   ]
  },
  {
   "cell_type": "code",
   "execution_count": null,
   "metadata": {},
   "outputs": [],
   "source": [
    "plot_decision_regions(new_inputs, new_outputs, p)\n",
    "plt.xlabel('SepalLengthCm')\n",
    "plt.ylabel('PetalLengthCm')\n",
    "plt.legend(loc='upper left')\n",
    "plt.show()"
   ]
  }
 ],
 "metadata": {
  "interpreter": {
   "hash": "9492b838085ce29e5ffbb58df7904613cf125c1d42e64147b70c0ccefb165ae3"
  },
  "kernelspec": {
   "display_name": "Python 3.9.4 64-bit ('.venv': venv)",
   "language": "python",
   "name": "python3"
  },
  "language_info": {
   "codemirror_mode": {
    "name": "ipython",
    "version": 3
   },
   "file_extension": ".py",
   "mimetype": "text/x-python",
   "name": "python",
   "nbconvert_exporter": "python",
   "pygments_lexer": "ipython3",
   "version": "3.9.4"
  },
  "orig_nbformat": 4
 },
 "nbformat": 4,
 "nbformat_minor": 2
}
